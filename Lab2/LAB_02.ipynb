{
 "cells": [
  {
   "cell_type": "markdown",
   "id": "fea26c59-9f88-48cf-8004-cae58b3f84c6",
   "metadata": {},
   "source": [
    "<h3>Task# 01:<br>\n",
    "Write a program that converts a positive integer into the Roman number system. The Roman number\n",
    "system has digits I (1), V (5), X (10), L (50), C(100), D(500) and M(1000). Numbers up to 3999 are\n",
    "formed according to the following rules:<br>\n",
    "a) As in the decimal system, the thousands, hundreds, tens and ones are expressed separately.<br>\n",
    "b) The numbers 1 to 9 are expressed as: 1 I 6 VI 2 II 7 VII 3 III 8 VIII4 IV 9 IX 5 V (An I preceding\n",
    "a V or X is subtracted from the value, and there cannot be more than threeI’s in a row.)<br>\n",
    "c) Tens and hundreds are done the same way, except that the letters X, L, C, and C, D, Mare used\n",
    "instead of I, V, X respectively.<br>\n",
    "Example: Your program should take an input, such as 1978, and convert it to Roman numerals,\n",
    "MCMLXXVIII.</h3>"
   ]
  },
  {
   "cell_type": "code",
   "execution_count": 3,
   "id": "89bbd071-cbbe-4b5f-bf45-ed2a1ede0449",
   "metadata": {},
   "outputs": [],
   "source": [
    "def Roman(Num):\n",
    "    num = [ 1 , 4  , 5 , 9  ,10 , 40 , 50 , 90 , 100 ,400 , 500 ,900 ,1000]\n",
    "    sym = [\"I\",\"IV\",\"V\",\"IX\",\"X\",\"XL\",\"L\", \"XC\", \"C\", \"CD\", \"D\", \"CM\", \"M\"]\n",
    "    i = 12\n",
    "    \n",
    "    while Num:\n",
    "        div = Num//num[i]\n",
    "        Num %= num[i]\n",
    "\n",
    "        while div:\n",
    "            print(sym[i],end = \"\")\n",
    "            div -= 1\n",
    "        i -=1"
   ]
  },
  {
   "cell_type": "code",
   "execution_count": 4,
   "id": "9c3186cd-0015-4508-880d-95e9488ffe78",
   "metadata": {},
   "outputs": [
    {
     "name": "stdin",
     "output_type": "stream",
     "text": [
      "Enter Number to convert into Roman:  1974\n"
     ]
    },
    {
     "name": "stdout",
     "output_type": "stream",
     "text": [
      "MCMLXXIV"
     ]
    }
   ],
   "source": [
    "user = int(input(\"Enter Number to convert into Roman: \"))\n",
    "Roman(user)"
   ]
  },
  {
   "cell_type": "markdown",
   "id": "96de5283-0327-4c9f-9988-d1fb960abf28",
   "metadata": {},
   "source": [
    "<h3>Task# 02:<br>\n",
    "Write a program that calculates the user’s body mass index (BMI) and classify it as underweight,\n",
    "normal, overweight, or obese, based on the table from the United States Centers for Disease Control.</h3>"
   ]
  },
  {
   "cell_type": "code",
   "execution_count": 13,
   "id": "a4a51acf-395f-4c9c-b89f-f54b45615878",
   "metadata": {},
   "outputs": [
    {
     "name": "stdin",
     "output_type": "stream",
     "text": [
      "Enter weight in Kilos:  90\n",
      "Enter Height in inches:  66\n"
     ]
    },
    {
     "name": "stdout",
     "output_type": "stream",
     "text": [
      "Obese. BMI =  32\n"
     ]
    }
   ],
   "source": [
    "Weight = float(input(\"Enter weight in Kilos: \"))\n",
    "Height = int(input(\"Enter Height in inches: \"))\n",
    "\n",
    "Height = Height/39.3700787 # Changes inches into Merters\n",
    "\n",
    "BMI = Weight / (Height**2)\n",
    "if (BMI > 11.5 and BMI <= 18.5):\n",
    "    print(\"Under Weight. BMI = \" ,round(BMI)) \n",
    "elif (BMI > 18.5 and BMI <= 24.5):\n",
    "    print(\"Healthy. BMI = \" ,round(BMI)) \n",
    "elif (BMI > 24.5 and BMI <= 29.5):\n",
    "    print(\"Over Weight. BMI = \" ,round(BMI)) \n",
    "elif (BMI > 29.5 and BMI <= 40.5):\n",
    "    print(\"Obese. BMI = \" ,round(BMI)) \n",
    "else:\n",
    "    print(\"Extremely Obese. BMI = \" ,round(BMI)) \n",
    "    "
   ]
  },
  {
   "cell_type": "markdown",
   "id": "460b8bf6-cdfb-48cc-8e37-8d4fb8754781",
   "metadata": {},
   "source": [
    "<h3>Task # 03:<br>\n",
    "Write a program to compute quotient and remainder of a number without using division ('/') operator\n",
    "and modulo ('%') operator. Also mention procedure for calculating. </h3>"
   ]
  },
  {
   "cell_type": "code",
   "execution_count": 3,
   "id": "f3c0dd49-277a-4905-af59-ec7d597a7da1",
   "metadata": {},
   "outputs": [
    {
     "name": "stdin",
     "output_type": "stream",
     "text": [
      "Enter Dividened:  46\n",
      "Enter Divisor:  9\n"
     ]
    },
    {
     "name": "stdout",
     "output_type": "stream",
     "text": [
      "Quotient =  5\n",
      "Remainder =  1.0\n"
     ]
    }
   ],
   "source": [
    "def Divide_without_operator(dividened,divisor):\n",
    "    if (divisor == 0):\n",
    "        print(\"Cannot Divide by Zero!\")\n",
    "        return \n",
    "\n",
    "    dividened = abs(dividened)\n",
    "    divisor = abs(divisor)\n",
    "\n",
    "    quotient = 0\n",
    "    while (dividened >= divisor):\n",
    "        dividened -= divisor\n",
    "        quotient += 1\n",
    "\n",
    "    remainder = dividened\n",
    "\n",
    "    print(\"Quotient = \",quotient)\n",
    "    print(\"Remainder = \",remainder)\n",
    "\n",
    "\n",
    "dividened = float(input(\"Enter Dividened: \"))\n",
    "divisor = float(input(\"Enter Divisor: \"))\n",
    "Divide_without_operator(dividened, divisor)\n"
   ]
  }
 ],
 "metadata": {
  "kernelspec": {
   "display_name": "Python 3 (ipykernel)",
   "language": "python",
   "name": "python3"
  },
  "language_info": {
   "codemirror_mode": {
    "name": "ipython",
    "version": 3
   },
   "file_extension": ".py",
   "mimetype": "text/x-python",
   "name": "python",
   "nbconvert_exporter": "python",
   "pygments_lexer": "ipython3",
   "version": "3.11.1"
  }
 },
 "nbformat": 4,
 "nbformat_minor": 5
}
