{
 "cells": [
  {
   "cell_type": "markdown",
   "id": "0eb1ff81-ac48-4ded-9da6-ab3d2fa844ac",
   "metadata": {},
   "source": [
    "<h3>Lab #01 task:</h3>\n",
    "Exercise: Dir and Help\n",
    "Learn about the methods Python provides for strings. To see what methods Python provides for a\n",
    "datatype, use the dir and help commands:"
   ]
  },
  {
   "cell_type": "code",
   "execution_count": 6,
   "id": "f91d68e7-d40f-44de-8463-6ff669374af1",
   "metadata": {
    "scrolled": true
   },
   "outputs": [
    {
     "data": {
      "text/plain": [
       "['__add__',\n",
       " '__class__',\n",
       " '__contains__',\n",
       " '__delattr__',\n",
       " '__dir__',\n",
       " '__doc__',\n",
       " '__eq__',\n",
       " '__format__',\n",
       " '__ge__',\n",
       " '__getattribute__',\n",
       " '__getitem__',\n",
       " '__getnewargs__',\n",
       " '__getstate__',\n",
       " '__gt__',\n",
       " '__hash__',\n",
       " '__init__',\n",
       " '__init_subclass__',\n",
       " '__iter__',\n",
       " '__le__',\n",
       " '__len__',\n",
       " '__lt__',\n",
       " '__mod__',\n",
       " '__mul__',\n",
       " '__ne__',\n",
       " '__new__',\n",
       " '__reduce__',\n",
       " '__reduce_ex__',\n",
       " '__repr__',\n",
       " '__rmod__',\n",
       " '__rmul__',\n",
       " '__setattr__',\n",
       " '__sizeof__',\n",
       " '__str__',\n",
       " '__subclasshook__',\n",
       " 'capitalize',\n",
       " 'casefold',\n",
       " 'center',\n",
       " 'count',\n",
       " 'encode',\n",
       " 'endswith',\n",
       " 'expandtabs',\n",
       " 'find',\n",
       " 'format',\n",
       " 'format_map',\n",
       " 'index',\n",
       " 'isalnum',\n",
       " 'isalpha',\n",
       " 'isascii',\n",
       " 'isdecimal',\n",
       " 'isdigit',\n",
       " 'isidentifier',\n",
       " 'islower',\n",
       " 'isnumeric',\n",
       " 'isprintable',\n",
       " 'isspace',\n",
       " 'istitle',\n",
       " 'isupper',\n",
       " 'join',\n",
       " 'ljust',\n",
       " 'lower',\n",
       " 'lstrip',\n",
       " 'maketrans',\n",
       " 'partition',\n",
       " 'removeprefix',\n",
       " 'removesuffix',\n",
       " 'replace',\n",
       " 'rfind',\n",
       " 'rindex',\n",
       " 'rjust',\n",
       " 'rpartition',\n",
       " 'rsplit',\n",
       " 'rstrip',\n",
       " 'split',\n",
       " 'splitlines',\n",
       " 'startswith',\n",
       " 'strip',\n",
       " 'swapcase',\n",
       " 'title',\n",
       " 'translate',\n",
       " 'upper',\n",
       " 'zfill']"
      ]
     },
     "execution_count": 6,
     "metadata": {},
     "output_type": "execute_result"
    }
   ],
   "source": [
    "s = 'abc'\n",
    "\n",
    "dir(s)"
   ]
  },
  {
   "cell_type": "code",
   "execution_count": 7,
   "id": "c7dc0a46-d142-4abc-a771-2241855884f3",
   "metadata": {},
   "outputs": [
    {
     "name": "stdout",
     "output_type": "stream",
     "text": [
      "Help on built-in function find:\n",
      "\n",
      "find(...) method of builtins.str instance\n",
      "    S.find(sub[, start[, end]]) -> int\n",
      "    \n",
      "    Return the lowest index in S where substring sub is found,\n",
      "    such that sub is contained within S[start:end].  Optional\n",
      "    arguments start and end are interpreted as in slice notation.\n",
      "    \n",
      "    Return -1 on failure.\n",
      "\n"
     ]
    }
   ],
   "source": [
    "help(s.find)"
   ]
  },
  {
   "cell_type": "code",
   "execution_count": 9,
   "id": "74b62ca1-e18d-419e-9c25-c30ca6b88db0",
   "metadata": {},
   "outputs": [
    {
     "data": {
      "text/plain": [
       "2"
      ]
     },
     "execution_count": 9,
     "metadata": {},
     "output_type": "execute_result"
    }
   ],
   "source": [
    "s.find('c')"
   ]
  },
  {
   "cell_type": "code",
   "execution_count": 23,
   "id": "1c80f670-39e5-438e-bf64-6e9dd31deca6",
   "metadata": {},
   "outputs": [
    {
     "data": {
      "text/plain": [
       "0"
      ]
     },
     "execution_count": 23,
     "metadata": {},
     "output_type": "execute_result"
    }
   ],
   "source": [
    "s.index('a')"
   ]
  },
  {
   "cell_type": "code",
   "execution_count": 39,
   "id": "cbf442f1-9e5a-4b91-827a-2bbc7a75f17e",
   "metadata": {},
   "outputs": [
    {
     "data": {
      "text/plain": [
       "'dbc'"
      ]
     },
     "execution_count": 39,
     "metadata": {},
     "output_type": "execute_result"
    }
   ],
   "source": [
    "s = s.replace('a','d')"
   ]
  },
  {
   "cell_type": "code",
   "execution_count": 42,
   "id": "91afde5a-484c-4563-b4fd-60a3c8eb99c6",
   "metadata": {},
   "outputs": [
    {
     "name": "stdout",
     "output_type": "stream",
     "text": [
      "Help on built-in function zfill:\n",
      "\n",
      "zfill(width, /) method of builtins.str instance\n",
      "    Pad a numeric string with zeros on the left, to fill a field of the given width.\n",
      "    \n",
      "    The string is never truncated.\n",
      "\n"
     ]
    },
    {
     "data": {
      "text/plain": [
       "'00dbc'"
      ]
     },
     "execution_count": 42,
     "metadata": {},
     "output_type": "execute_result"
    }
   ],
   "source": [
    "help(s.zfill)\n",
    "s.zfill(5)"
   ]
  },
  {
   "cell_type": "markdown",
   "id": "eacb9caf-18f8-4bbb-a977-6cc8a80944ae",
   "metadata": {},
   "source": [
    "<h3>Exercise Python input /output Basic operations</h3>\n",
    "<h5>(i)Write a Python program to swap 4 variables values (input four values).</h5>\n",
    "Sample input:<br>\n",
    "Before swapping<br>\n",
    "a=2,b=56,c=78,d=9<br>\n",
    "After Swapping<br>\n",
    "a=,9,b=78,c=56,d=2<br>"
   ]
  },
  {
   "cell_type": "code",
   "execution_count": 64,
   "id": "4b463ca0-6976-435d-adfb-c44bb5e1ab13",
   "metadata": {},
   "outputs": [
    {
     "name": "stdin",
     "output_type": "stream",
     "text": [
      "Enter 4 digits with space 2 56 78 9\n"
     ]
    },
    {
     "name": "stdout",
     "output_type": "stream",
     "text": [
      "Before swapping\n",
      "a = 2 ,b = 56 ,c = 78 ,d = 9\n",
      "After swapping\n",
      "a = 9 ,b = 78 ,c = 56 ,d = 2\n"
     ]
    }
   ],
   "source": [
    "a,b,c,d = map(int,input(\"Enter 4 digits with space\").split())\n",
    "print(\"Before swapping\")\n",
    "print('a =', a,',b =',b,',c =',c,',d =',d)\n",
    "\n",
    "a,d = d,a\n",
    "b,c = c,b\n",
    "\n",
    "print(\"After swapping\")\n",
    "print('a =', a,',b =',b,',c =',c,',d =',d)"
   ]
  },
  {
   "cell_type": "markdown",
   "id": "6da1bdba-4ba4-4f37-81a6-2276467daf20",
   "metadata": {},
   "source": [
    "<h3>(ii) Write a Python program to convert temperatures to and from celsius,<br>\n",
    "    Fahrenheit.</h3>\n",
    "Formula : c/5 = f-32/9<br>\n",
    "Expected Output :<br>\n",
    "Enter temp in Celsius: 60°C<br>\n",
    "Temperature in Fahrenheit is :140<nr>"
   ]
  },
  {
   "cell_type": "code",
   "execution_count": 68,
   "id": "71c5bbe7-498a-463e-a4ec-8d4651ce334e",
   "metadata": {},
   "outputs": [
    {
     "name": "stdin",
     "output_type": "stream",
     "text": [
      "Enter Temp n Celcius:  60\n"
     ]
    },
    {
     "name": "stdout",
     "output_type": "stream",
     "text": [
      "Temperature in Fahrenheit is : 140.0\n"
     ]
    }
   ],
   "source": [
    "C = float(input(\"Enter Temp n Celcius: \"))\n",
    "F = ((9/5 * C) + 32)\n",
    "print(\"Temperature in Fahrenheit is :\",F)"
   ]
  },
  {
   "cell_type": "markdown",
   "id": "961f0a76-ccd5-4862-b63e-277cd95e4430",
   "metadata": {},
   "source": [
    "<h2>Exercise: Lists</h2>\n",
    "<h4>(i)Play with some of the list functions. You can find the methods you can call on an object via the dir\n",
    "and get information about them via the help command:</h4>"
   ]
  },
  {
   "cell_type": "code",
   "execution_count": 69,
   "id": "8b803fad-f2af-4a1a-9283-2ea4de222d99",
   "metadata": {
    "scrolled": true
   },
   "outputs": [
    {
     "data": {
      "text/plain": [
       "['__add__',\n",
       " '__class__',\n",
       " '__class_getitem__',\n",
       " '__contains__',\n",
       " '__delattr__',\n",
       " '__delitem__',\n",
       " '__dir__',\n",
       " '__doc__',\n",
       " '__eq__',\n",
       " '__format__',\n",
       " '__ge__',\n",
       " '__getattribute__',\n",
       " '__getitem__',\n",
       " '__getstate__',\n",
       " '__gt__',\n",
       " '__hash__',\n",
       " '__iadd__',\n",
       " '__imul__',\n",
       " '__init__',\n",
       " '__init_subclass__',\n",
       " '__iter__',\n",
       " '__le__',\n",
       " '__len__',\n",
       " '__lt__',\n",
       " '__mul__',\n",
       " '__ne__',\n",
       " '__new__',\n",
       " '__reduce__',\n",
       " '__reduce_ex__',\n",
       " '__repr__',\n",
       " '__reversed__',\n",
       " '__rmul__',\n",
       " '__setattr__',\n",
       " '__setitem__',\n",
       " '__sizeof__',\n",
       " '__str__',\n",
       " '__subclasshook__',\n",
       " 'append',\n",
       " 'clear',\n",
       " 'copy',\n",
       " 'count',\n",
       " 'extend',\n",
       " 'index',\n",
       " 'insert',\n",
       " 'pop',\n",
       " 'remove',\n",
       " 'reverse',\n",
       " 'sort']"
      ]
     },
     "execution_count": 69,
     "metadata": {},
     "output_type": "execute_result"
    }
   ],
   "source": [
    "dir(list)"
   ]
  },
  {
   "cell_type": "code",
   "execution_count": 71,
   "id": "0a34a6df-1a17-4520-a987-99d0eb605a50",
   "metadata": {},
   "outputs": [
    {
     "data": {
      "text/plain": [
       "[5, 4, 3, 2, 1]"
      ]
     },
     "execution_count": 71,
     "metadata": {},
     "output_type": "execute_result"
    }
   ],
   "source": [
    "list = [1,2,3,4,5]\n",
    "list.reverse()\n",
    "list"
   ]
  },
  {
   "cell_type": "code",
   "execution_count": 83,
   "id": "6e2c4095-f21f-44e6-a4a3-cbd52c1e1e25",
   "metadata": {},
   "outputs": [
    {
     "data": {
      "text/plain": [
       "[5, 4, 3, 2, 1, 6]"
      ]
     },
     "execution_count": 83,
     "metadata": {},
     "output_type": "execute_result"
    }
   ],
   "source": [
    "list.append(6)\n",
    "list"
   ]
  },
  {
   "cell_type": "code",
   "execution_count": 84,
   "id": "ee9cbde7-f780-40df-b2fc-27cf8ea9d3d7",
   "metadata": {},
   "outputs": [
    {
     "data": {
      "text/plain": [
       "[5, 4, 3, 2, 1]"
      ]
     },
     "execution_count": 84,
     "metadata": {},
     "output_type": "execute_result"
    }
   ],
   "source": [
    "list.remove(6)\n",
    "list"
   ]
  },
  {
   "cell_type": "code",
   "execution_count": 86,
   "id": "8e0281f1-ae74-405e-ac0b-37c3649b04cf",
   "metadata": {},
   "outputs": [
    {
     "data": {
      "text/plain": [
       "[1, 2, 3, 4, 5]"
      ]
     },
     "execution_count": 86,
     "metadata": {},
     "output_type": "execute_result"
    }
   ],
   "source": [
    "list.sort()\n",
    "list"
   ]
  },
  {
   "cell_type": "code",
   "execution_count": 88,
   "id": "49bd4011-1d43-49eb-9dc7-916e1136ae03",
   "metadata": {},
   "outputs": [
    {
     "data": {
      "text/plain": [
       "[1, 2, 45, 3, 4, 5]"
      ]
     },
     "execution_count": 88,
     "metadata": {},
     "output_type": "execute_result"
    }
   ],
   "source": [
    "list.insert(2,45)\n",
    "list"
   ]
  },
  {
   "cell_type": "code",
   "execution_count": 89,
   "id": "81cc13a5-8295-4eb3-87c2-45c49092cccc",
   "metadata": {},
   "outputs": [
    {
     "data": {
      "text/plain": [
       "5"
      ]
     },
     "execution_count": 89,
     "metadata": {},
     "output_type": "execute_result"
    }
   ],
   "source": [
    "list.pop()"
   ]
  },
  {
   "cell_type": "markdown",
   "id": "9ab25e9c-3bba-48fa-b1f9-f003007e38de",
   "metadata": {},
   "source": [
    "<h4>(ii)Write a Python program to count the number of strings where the string length is 2 or more and the\n",
    "first and last character are same from a given list of strings.</h4>\n",
    "Sample List : ['abc', 'xyz', 'aba', '1221']<br>\n",
    "Expected Result : 2."
   ]
  },
  {
   "cell_type": "code",
   "execution_count": 92,
   "id": "6f1c3a1e-05a6-46a0-aa71-6c069c0d6cd1",
   "metadata": {},
   "outputs": [
    {
     "name": "stdout",
     "output_type": "stream",
     "text": [
      "3\n"
     ]
    }
   ],
   "source": [
    "Sample_List = ['abc', 'xyz', 'aba', '1221','dbcd']\n",
    "count = 0\n",
    "for list in Sample_List:\n",
    "    if (len(list) >= 2 and list[0] == list[-1]):\n",
    "        count +=1\n",
    "\n",
    "print(count)"
   ]
  },
  {
   "cell_type": "markdown",
   "id": "be4b23ed-2bdb-44bf-9405-5c2c1c33e029",
   "metadata": {},
   "source": [
    "<h2>Exercise: Dictionaries</h2>\n",
    "<h4>(i)Use dir and help to learn about the functions you can call on dictionaries and implement it</h4>"
   ]
  },
  {
   "cell_type": "code",
   "execution_count": 94,
   "id": "789c6ba6-6cfe-4b37-8e2a-05a5d707c49a",
   "metadata": {
    "scrolled": true
   },
   "outputs": [
    {
     "data": {
      "text/plain": [
       "['__class__',\n",
       " '__class_getitem__',\n",
       " '__contains__',\n",
       " '__delattr__',\n",
       " '__delitem__',\n",
       " '__dir__',\n",
       " '__doc__',\n",
       " '__eq__',\n",
       " '__format__',\n",
       " '__ge__',\n",
       " '__getattribute__',\n",
       " '__getitem__',\n",
       " '__getstate__',\n",
       " '__gt__',\n",
       " '__hash__',\n",
       " '__init__',\n",
       " '__init_subclass__',\n",
       " '__ior__',\n",
       " '__iter__',\n",
       " '__le__',\n",
       " '__len__',\n",
       " '__lt__',\n",
       " '__ne__',\n",
       " '__new__',\n",
       " '__or__',\n",
       " '__reduce__',\n",
       " '__reduce_ex__',\n",
       " '__repr__',\n",
       " '__reversed__',\n",
       " '__ror__',\n",
       " '__setattr__',\n",
       " '__setitem__',\n",
       " '__sizeof__',\n",
       " '__str__',\n",
       " '__subclasshook__',\n",
       " 'clear',\n",
       " 'copy',\n",
       " 'fromkeys',\n",
       " 'get',\n",
       " 'items',\n",
       " 'keys',\n",
       " 'pop',\n",
       " 'popitem',\n",
       " 'setdefault',\n",
       " 'update',\n",
       " 'values']"
      ]
     },
     "execution_count": 94,
     "metadata": {},
     "output_type": "execute_result"
    }
   ],
   "source": [
    "dir(dict)"
   ]
  },
  {
   "cell_type": "code",
   "execution_count": 115,
   "id": "b986d39f-17a1-466c-b2e6-a408ef38ce4d",
   "metadata": {},
   "outputs": [
    {
     "data": {
      "text/plain": [
       "'Ahmad Raza'"
      ]
     },
     "execution_count": 115,
     "metadata": {},
     "output_type": "execute_result"
    }
   ],
   "source": [
    "s = {1:'Dinesh Kumar',2:'Ahmad Raza', 3:'Zohaib Ahmad' ,4: 'Abbas Shah'}\n",
    "s[2]"
   ]
  },
  {
   "cell_type": "code",
   "execution_count": 116,
   "id": "07ebd6dc-c05e-4796-bc95-d4aa616c3cb4",
   "metadata": {},
   "outputs": [
    {
     "data": {
      "text/plain": [
       "{1: 'Dinesh Kumar', 2: 'Ahmad Raza', 3: 'Zohaib Ahmad', 4: 'Abbas Shah'}"
      ]
     },
     "execution_count": 116,
     "metadata": {},
     "output_type": "execute_result"
    }
   ],
   "source": [
    "a = s.copy()\n",
    "a"
   ]
  },
  {
   "cell_type": "code",
   "execution_count": 117,
   "id": "61dda882-33a5-4641-9a87-753f7c880cbc",
   "metadata": {},
   "outputs": [
    {
     "data": {
      "text/plain": [
       "{}"
      ]
     },
     "execution_count": 117,
     "metadata": {},
     "output_type": "execute_result"
    }
   ],
   "source": [
    "a.clear()\n",
    "a"
   ]
  },
  {
   "cell_type": "code",
   "execution_count": 118,
   "id": "2c484d57-afb6-4635-8c37-898ee2386ac6",
   "metadata": {},
   "outputs": [
    {
     "data": {
      "text/plain": [
       "dict_values(['Dinesh Kumar', 'Ahmad Raza', 'Zohaib Ahmad', 'Abbas Shah'])"
      ]
     },
     "execution_count": 118,
     "metadata": {},
     "output_type": "execute_result"
    }
   ],
   "source": [
    "s.values()"
   ]
  },
  {
   "cell_type": "code",
   "execution_count": 120,
   "id": "90711cc0-a23f-4768-a118-ba600393dae4",
   "metadata": {},
   "outputs": [
    {
     "data": {
      "text/plain": [
       "dict_keys([1, 2, 3, 4])"
      ]
     },
     "execution_count": 120,
     "metadata": {},
     "output_type": "execute_result"
    }
   ],
   "source": [
    "s.keys()"
   ]
  },
  {
   "cell_type": "code",
   "execution_count": 122,
   "id": "e7f7b598-eeef-47ad-b921-9d1629552ba0",
   "metadata": {},
   "outputs": [
    {
     "data": {
      "text/plain": [
       "(4, 'Abbas Shah')"
      ]
     },
     "execution_count": 122,
     "metadata": {},
     "output_type": "execute_result"
    }
   ],
   "source": [
    "s.popitem()"
   ]
  },
  {
   "cell_type": "markdown",
   "id": "ece15759-7c62-4dff-ae54-fbe63522955e",
   "metadata": {},
   "source": [
    "<h4>(ii)Write a Python script to concatenate following dictionaries to create a new one.</h4>\n",
    "Sample Dictionary :<br>\n",
    "dic1={1:10, 2:20}<br>\n",
    "dic2={3:30, 4:40}<br>\n",
    "dic3={5:50,6:60}<br>\n",
    "Expected Result : {1: 10, 2: 20, 3: 30, 4: 40, 5: 50, 6: 60}"
   ]
  },
  {
   "cell_type": "code",
   "execution_count": 127,
   "id": "4b1c3efd-8c7b-4206-85e6-e9d128228a9e",
   "metadata": {},
   "outputs": [
    {
     "data": {
      "text/plain": [
       "{1: 10, 2: 20, 3: 30, 4: 40, 5: 50, 6: 60}"
      ]
     },
     "execution_count": 127,
     "metadata": {},
     "output_type": "execute_result"
    }
   ],
   "source": [
    "dic1={1:10, 2:20}\n",
    "dic2={3:30, 4:40}\n",
    "dic3={5:50,6:60}\n",
    "\n",
    "dic4 = {}\n",
    "\n",
    "for d in (dic1,dic2,dic3):\n",
    "    dic4.update(d)\n",
    "\n",
    "dic4"
   ]
  },
  {
   "cell_type": "markdown",
   "id": "b216d1ed-49cc-4e86-a9bf-f87235614cc2",
   "metadata": {},
   "source": [
    "<h2>Exercise: List Comprehensions</h2>\n",
    "<h4>(i)Write a list comprehension which, from a list, generates a lowercased version of each string that has\n",
    "length greater than five.</h4>"
   ]
  },
  {
   "cell_type": "code",
   "execution_count": 134,
   "id": "42570b8e-fcab-4e9a-93ab-1cff80dddbcf",
   "metadata": {},
   "outputs": [
    {
     "name": "stdout",
     "output_type": "stream",
     "text": [
      "a =  ['good morning', 'computer', 'university']\n",
      "m =  ['good morning', 'computer', 'university']\n"
     ]
    }
   ],
   "source": [
    "l = ['Hello', 'World', 'Good Morning','Computer','UNIVERSITY']\n",
    "a = []\n",
    "for i in l:\n",
    "    if (len(i) >5):\n",
    "        a.append(i.lower())\n",
    "print(\"a = \",a)\n",
    "# OR\n",
    "\n",
    "m = [item.lower() for item in l if len(item) > 5]\n",
    "print('m = ',m)"
   ]
  },
  {
   "cell_type": "markdown",
   "id": "6cae5df7-7747-4546-801c-e5281f05b7ad",
   "metadata": {},
   "source": [
    "<h4>(ii)Write a Python program to print a specified list after removing the 0th, 4th and 5th elements</h4>\n",
    "Sample List : ['Red', 'Green', 'White', 'Black', 'Pink', 'Yellow',’Teapink’]<br>\n",
    "Expected Output : ['Green', 'White', 'Black']"
   ]
  },
  {
   "cell_type": "code",
   "execution_count": 136,
   "id": "6ab89ae0-c957-4ed1-a673-5ec88c036a8e",
   "metadata": {},
   "outputs": [
    {
     "data": {
      "text/plain": [
       "['Green', 'White', 'Black', 'Teapink']"
      ]
     },
     "execution_count": 136,
     "metadata": {},
     "output_type": "execute_result"
    }
   ],
   "source": [
    "Sample_List = ['Red', 'Green', 'White', 'Black', 'Pink', 'Yellow','Teapink']\n",
    "output = Sample_List[1:4] + Sample_List[6:]\n",
    "output"
   ]
  },
  {
   "cell_type": "code",
   "execution_count": 138,
   "id": "98864a3f-4de4-41ef-a4da-8d76fb6d5175",
   "metadata": {},
   "outputs": [
    {
     "name": "stdout",
     "output_type": "stream",
     "text": [
      "true\n"
     ]
    }
   ],
   "source": [
    "x = 6\n",
    "if (type(x) is int):\n",
    "    print (\"true\")\n",
    "else:\n",
    "    print (\"false\")"
   ]
  },
  {
   "cell_type": "code",
   "execution_count": 140,
   "id": "57c3df75-6215-4f9c-9a0f-b9cdb6747084",
   "metadata": {},
   "outputs": [
    {
     "name": "stdout",
     "output_type": "stream",
     "text": [
      "not overlapping\n",
      "not overlapping\n",
      "not overlapping\n",
      "not overlapping\n",
      "not overlapping\n"
     ]
    }
   ],
   "source": [
    "list1=[1,2,3,4,5]\n",
    "list2=[6,7,8,9]\n",
    "for item in list1:\n",
    "    if item in list2:\n",
    "        print(\"overlapping\")\n",
    "    else:\n",
    "        print(\"not overlapping\")"
   ]
  },
  {
   "cell_type": "code",
   "execution_count": 161,
   "id": "e4b612ac-8533-4d85-b663-cbd7ef3757b1",
   "metadata": {},
   "outputs": [
    {
     "name": "stdout",
     "output_type": "stream",
     "text": [
      "Line 1 12\n",
      "Line 2  61\n",
      "Line 3  49\n",
      "Line 4 -61\n",
      "Line 5  240\n",
      "Line 6 - 15\n"
     ]
    }
   ],
   "source": [
    "a = 60 # 60 = 0011 1100 */\n",
    "b = 13 # 13 = 0000 1101 */\n",
    "c = 0\n",
    "c = a & b #/* 12 = 0000 1100 */\n",
    "print(\"Line 1\", c )\n",
    "c = a | b # 61 = 0011 1101 \n",
    "print(\"Line 2 \", c )\n",
    "c = a ^ b # 49 = 0011 0001 \n",
    "print(\"Line 3 \", c )\n",
    "c = ~a #-61 = 1100 0011 \n",
    "print(\"Line 4\", c )\n",
    "c = a << 2 # 240 = 1111 0000 \n",
    "print(\"Line 5 \", c );\n",
    "c = a >> 2 # 15 = 0000 11#\n",
    "print(\"Line 6 -\", c );"
   ]
  },
  {
   "cell_type": "code",
   "execution_count": 158,
   "id": "55f2069d-5626-444b-88f5-a6028ba45727",
   "metadata": {},
   "outputs": [
    {
     "data": {
      "text/plain": [
       "str"
      ]
     },
     "execution_count": 158,
     "metadata": {},
     "output_type": "execute_result"
    }
   ],
   "source": [
    "type('''Hello''')"
   ]
  },
  {
   "cell_type": "code",
   "execution_count": 164,
   "id": "874e900f-0334-42ba-96d8-e64ab259c81f",
   "metadata": {},
   "outputs": [
    {
     "name": "stdout",
     "output_type": "stream",
     "text": [
      "Help on class map in module builtins:\n",
      "\n",
      "class map(object)\n",
      " |  map(func, *iterables) --> map object\n",
      " |  \n",
      " |  Make an iterator that computes the function using arguments from\n",
      " |  each of the iterables.  Stops when the shortest iterable is exhausted.\n",
      " |  \n",
      " |  Methods defined here:\n",
      " |  \n",
      " |  __getattribute__(self, name, /)\n",
      " |      Return getattr(self, name).\n",
      " |  \n",
      " |  __iter__(self, /)\n",
      " |      Implement iter(self).\n",
      " |  \n",
      " |  __next__(self, /)\n",
      " |      Implement next(self).\n",
      " |  \n",
      " |  __reduce__(...)\n",
      " |      Return state information for pickling.\n",
      " |  \n",
      " |  ----------------------------------------------------------------------\n",
      " |  Static methods defined here:\n",
      " |  \n",
      " |  __new__(*args, **kwargs) from builtins.type\n",
      " |      Create and return a new object.  See help(type) for accurate signature.\n",
      "\n"
     ]
    }
   ],
   "source": [
    "help(map)\n"
   ]
  },
  {
   "cell_type": "code",
   "execution_count": 2,
   "id": "3ac9c8ce-a3d2-4dfc-bd36-4e6ad2a04efe",
   "metadata": {},
   "outputs": [
    {
     "ename": "SyntaxError",
     "evalue": "invalid character '“' (U+201C) (167015814.py, line 3)",
     "output_type": "error",
     "traceback": [
      "\u001b[1;36m  Cell \u001b[1;32mIn[2], line 3\u001b[1;36m\u001b[0m\n\u001b[1;33m    print(“floor divide=”,a)\u001b[0m\n\u001b[1;37m          ^\u001b[0m\n\u001b[1;31mSyntaxError\u001b[0m\u001b[1;31m:\u001b[0m invalid character '“' (U+201C)\n"
     ]
    }
   ],
   "source": [
    "a//=3\n",
    "a**=5\n",
    "print(“floor divide=”,a)\n",
    "print(“exponent=”,a)"
   ]
  },
  {
   "cell_type": "code",
   "execution_count": 3,
   "id": "08e8d92a-0f55-4639-a777-f0f583ec2d41",
   "metadata": {},
   "outputs": [
    {
     "ename": "SyntaxError",
     "evalue": "leading zeros in decimal integer literals are not permitted; use an 0o prefix for octal integers (291343461.py, line 1)",
     "output_type": "error",
     "traceback": [
      "\u001b[1;36m  Cell \u001b[1;32mIn[3], line 1\u001b[1;36m\u001b[0m\n\u001b[1;33m    a = 60 /* 60 = 0011 1100 */\u001b[0m\n\u001b[1;37m                   ^\u001b[0m\n\u001b[1;31mSyntaxError\u001b[0m\u001b[1;31m:\u001b[0m leading zeros in decimal integer literals are not permitted; use an 0o prefix for octal integers\n"
     ]
    }
   ],
   "source": [
    "a = 60 /* 60 = 0011 1100 */"
   ]
  },
  {
   "cell_type": "code",
   "execution_count": null,
   "id": "f4b836fd-aed5-4fe5-9d6b-a810804932da",
   "metadata": {},
   "outputs": [],
   "source": []
  }
 ],
 "metadata": {
  "kernelspec": {
   "display_name": "Python 3 (ipykernel)",
   "language": "python",
   "name": "python3"
  },
  "language_info": {
   "codemirror_mode": {
    "name": "ipython",
    "version": 3
   },
   "file_extension": ".py",
   "mimetype": "text/x-python",
   "name": "python",
   "nbconvert_exporter": "python",
   "pygments_lexer": "ipython3",
   "version": "3.11.1"
  }
 },
 "nbformat": 4,
 "nbformat_minor": 5
}
